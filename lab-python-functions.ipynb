{
 "cells": [
  {
   "cell_type": "markdown",
   "id": "25d7736c-ba17-4aff-b6bb-66eba20fbf4e",
   "metadata": {},
   "source": [
    "# Lab | Functions"
   ]
  },
  {
   "cell_type": "markdown",
   "id": "0c581062-8967-4d93-b06e-62833222f930",
   "metadata": {
    "tags": []
   },
   "source": [
    "## Exercise: Managing Customer Orders with Functions\n",
    "\n",
    "In the previous exercise, you improved the code for managing customer orders by using loops and flow control. Now, let's take it a step further and refactor the code by introducing functions.\n",
    "\n",
    "Follow the steps below to complete the exercise:\n",
    "\n",
    "1. Define a function named `initialize_inventory` that takes `products` as a parameter. Inside the function, implement the code for initializing the inventory dictionary using a loop and user input.\n",
    "\n",
    "2. Define a function named `get_customer_orders` that takes no parameters. Inside the function, implement the code for prompting the user to enter the product names using a loop. The function should return the `customer_orders` set.\n",
    "\n",
    "3. Define a function named `update_inventory` that takes `customer_orders` and `inventory` as parameters. Inside the function, implement the code for updating the inventory dictionary based on the customer orders.\n",
    "\n",
    "4. Define a function named `calculate_order_statistics` that takes `customer_orders` and `products` as parameters. Inside the function, implement the code for calculating the order statistics (total products ordered, and percentage of unique products ordered). The function should return these values.\n",
    "\n",
    "5. Define a function named `print_order_statistics` that takes `order_statistics` as a parameter. Inside the function, implement the code for printing the order statistics.\n",
    "\n",
    "6. Define a function named `print_updated_inventory` that takes `inventory` as a parameter. Inside the function, implement the code for printing the updated inventory.\n",
    "\n",
    "7. Call the functions in the appropriate sequence to execute the program and manage customer orders.\n",
    "\n",
    "Hints for functions:\n",
    "\n",
    "- Consider the input parameters required for each function and their return values.\n",
    "- Utilize function parameters and return values to transfer data between functions.\n",
    "- Test your functions individually to ensure they work correctly.\n",
    "\n",
    "\n"
   ]
  },
  {
   "cell_type": "code",
   "execution_count": null,
   "id": "004f6dcf",
   "metadata": {},
   "outputs": [],
   "source": [
    "products = [\"t-shirt\", \"mug\", \"hat\", \"book\", \"keychain\"]\n",
    "inventory = {}\n",
    "def initialize_inventory (products):\n",
    "    for product in products:\n",
    "        cantidad = int(input(\"How many \" + product))\n",
    "        inventory[product] = cantidad\n",
    "    return inventory"
   ]
  },
  {
   "cell_type": "code",
   "execution_count": 51,
   "id": "6b9358bd",
   "metadata": {},
   "outputs": [
    {
     "data": {
      "text/plain": [
       "{'t-shirt': 2, 'mug': 3, 'hat': 1, 'book': 23, 'keychain': 4}"
      ]
     },
     "execution_count": 51,
     "metadata": {},
     "output_type": "execute_result"
    }
   ],
   "source": [
    "initialize_inventory(products)"
   ]
  },
  {
   "cell_type": "code",
   "execution_count": 52,
   "id": "d5ff446e",
   "metadata": {},
   "outputs": [],
   "source": [
    "customer_orders = set()\n",
    "def get_customer_orders ():\n",
    "    seguir_comprando = \"yes\"\n",
    "    while seguir_comprando == \"yes\":\n",
    "        producto = input (\"What do you want to buy?\")\n",
    "        customer_orders.add(producto)\n",
    "        seguir_comprando = input (\"Do you want to add another product?\")\n",
    "    return customer_orders"
   ]
  },
  {
   "cell_type": "code",
   "execution_count": 54,
   "id": "c11230a2",
   "metadata": {},
   "outputs": [
    {
     "data": {
      "text/plain": [
       "{'book', 'hat', 'keychain'}"
      ]
     },
     "execution_count": 54,
     "metadata": {},
     "output_type": "execute_result"
    }
   ],
   "source": [
    "get_customer_orders ()"
   ]
  },
  {
   "cell_type": "code",
   "execution_count": 55,
   "id": "5aa2a76b",
   "metadata": {},
   "outputs": [],
   "source": [
    "def update_inventory (customer_orders, products):\n",
    "    for product in products:\n",
    "        if product in customer_orders:\n",
    "            inventory[product] -= 1\n",
    "    return inventory"
   ]
  },
  {
   "cell_type": "code",
   "execution_count": 26,
   "id": "75618563",
   "metadata": {},
   "outputs": [
    {
     "name": "stdout",
     "output_type": "stream",
     "text": [
      "{'t-shirt': 3, 'mug': 3, 'hat': 4, 'book': 32, 'keychain': 3}\n"
     ]
    }
   ],
   "source": [
    "update_inventory(customer_orders, products)"
   ]
  },
  {
   "cell_type": "code",
   "execution_count": null,
   "id": "98e618a6",
   "metadata": {},
   "outputs": [],
   "source": [
    "def calculate_order_statistics (customer_orders, products):\n",
    "    total_products_ordered = len(customer_orders)\n",
    "    percentage_ordered = (total_products_ordered / len(products)) * 100\n",
    "    return total_products_ordered, percentage_ordered"
   ]
  },
  {
   "cell_type": "code",
   "execution_count": 45,
   "id": "a49095db",
   "metadata": {},
   "outputs": [
    {
     "name": "stdout",
     "output_type": "stream",
     "text": [
      "(3, 60.0)\n"
     ]
    }
   ],
   "source": [
    "order_statistics = calculate_order_statistics (customer_orders, products)\n",
    "print(order_statistics)"
   ]
  },
  {
   "cell_type": "code",
   "execution_count": 43,
   "id": "10ded6be",
   "metadata": {},
   "outputs": [],
   "source": [
    "def print_order_statistics (order_statistics):\n",
    "    print(f\"The order statistics: Products ordered: {order_statistics[0]} Percentage of products ordered: {order_statistics[1]}\")"
   ]
  },
  {
   "cell_type": "code",
   "execution_count": 44,
   "id": "bd384bcb",
   "metadata": {},
   "outputs": [
    {
     "name": "stdout",
     "output_type": "stream",
     "text": [
      "The order statistics: Products ordered: 3 Percentage of products ordered: 60.0\n"
     ]
    }
   ],
   "source": [
    "print_order_statistics (order_statistics)"
   ]
  },
  {
   "cell_type": "code",
   "execution_count": 56,
   "id": "c302f8d7",
   "metadata": {},
   "outputs": [],
   "source": [
    "def print_updated_inventory (inventory):\n",
    "    print(inventory)\n"
   ]
  },
  {
   "cell_type": "code",
   "execution_count": 47,
   "id": "79fc31be",
   "metadata": {},
   "outputs": [
    {
     "name": "stdout",
     "output_type": "stream",
     "text": [
      "{'t-shirt': 3, 'mug': 2, 'hat': 3, 'book': 31, 'keychain': 3}\n"
     ]
    }
   ],
   "source": [
    "print_updated_inventory (inventory)"
   ]
  },
  {
   "cell_type": "code",
   "execution_count": 57,
   "id": "8b753b15",
   "metadata": {},
   "outputs": [
    {
     "name": "stdout",
     "output_type": "stream",
     "text": [
      "(3, 60.0)\n",
      "The order statistics: Products ordered: 3 Percentage of products ordered: 60.0\n",
      "{'t-shirt': 3, 'mug': 4, 'hat': 1, 'book': 1, 'keychain': 3}\n"
     ]
    }
   ],
   "source": [
    "products = [\"t-shirt\", \"mug\", \"hat\", \"book\", \"keychain\"]\n",
    "inventory = {}\n",
    "customer_orders = set()\n",
    "inventory = initialize_inventory(products)\n",
    "customer_orders = get_customer_orders ()\n",
    "inventory = update_inventory(customer_orders, products)\n",
    "order_statistics = calculate_order_statistics (customer_orders, products)\n",
    "print(order_statistics)\n",
    "print_order_statistics (order_statistics)\n",
    "print_updated_inventory (inventory)"
   ]
  },
  {
   "cell_type": "code",
   "execution_count": null,
   "id": "f4947cac",
   "metadata": {},
   "outputs": [],
   "source": []
  }
 ],
 "metadata": {
  "kernelspec": {
   "display_name": "base",
   "language": "python",
   "name": "python3"
  },
  "language_info": {
   "codemirror_mode": {
    "name": "ipython",
    "version": 3
   },
   "file_extension": ".py",
   "mimetype": "text/x-python",
   "name": "python",
   "nbconvert_exporter": "python",
   "pygments_lexer": "ipython3",
   "version": "3.12.7"
  }
 },
 "nbformat": 4,
 "nbformat_minor": 5
}
